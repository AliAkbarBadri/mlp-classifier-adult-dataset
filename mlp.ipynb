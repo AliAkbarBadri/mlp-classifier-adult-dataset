{
  "nbformat": 4,
  "nbformat_minor": 0,
  "metadata": {
    "colab": {
      "name": "mlp.ipynb",
      "provenance": [],
      "collapsed_sections": [],
      "toc_visible": true
    },
    "kernelspec": {
      "display_name": "deep",
      "language": "python",
      "name": "deep"
    },
    "language_info": {
      "codemirror_mode": {
        "name": "ipython",
        "version": 3
      },
      "file_extension": ".py",
      "mimetype": "text/x-python",
      "name": "python",
      "nbconvert_exporter": "python",
      "pygments_lexer": "ipython3",
      "version": "3.7.6"
    }
  },
  "cells": [
    {
      "cell_type": "code",
      "metadata": {
        "colab_type": "code",
        "id": "5Cd8uVq1Vi8k",
        "scrolled": true,
        "colab": {}
      },
      "source": [
        "%tensorflow_version 2.x\n",
        "import tensorflow as tf\n",
        "from tensorflow import keras\n",
        "import numpy as np\n",
        "import matplotlib.pyplot as plt\n",
        "import pandas as pd"
      ],
      "execution_count": 0,
      "outputs": []
    },
    {
      "cell_type": "code",
      "metadata": {
        "colab_type": "code",
        "id": "hy15hNnzXZkn",
        "colab": {}
      },
      "source": [
        ""
      ],
      "execution_count": 0,
      "outputs": []
    },
    {
      "cell_type": "code",
      "metadata": {
        "colab_type": "code",
        "id": "Q9d758MAgGBD",
        "colab": {}
      },
      "source": [
        "try:\n",
        "  df = pd.read_csv(\"adults.csv\",index_col=False, sep=\", \",engine='python')\n",
        "except:\n",
        "  df = pd.read_csv(\"https://raw.githubusercontent.com/aliakbarbadri/mlp-classifier-adult-dataset/master/adults.csv\", index_col=False, sep=\", \",engine='python')"
      ],
      "execution_count": 0,
      "outputs": []
    },
    {
      "cell_type": "code",
      "metadata": {
        "colab_type": "code",
        "id": "yjeXar71g-21",
        "outputId": "e3418206-687a-4d53-9f58-c2dd4ea24493",
        "scrolled": true,
        "colab": {
          "base_uri": "https://localhost:8080/",
          "height": 255
        }
      },
      "source": [
        "df.head"
      ],
      "execution_count": 0,
      "outputs": [
        {
          "output_type": "execute_result",
          "data": {
            "text/plain": [
              "<bound method NDFrame.head of        age         workclass  fnlwgt  ... hours-per-week  native-country  salary\n",
              "0       39         State-gov   77516  ...             40   United-States   <=50K\n",
              "1       50  Self-emp-not-inc   83311  ...             13   United-States   <=50K\n",
              "2       38           Private  215646  ...             40   United-States   <=50K\n",
              "3       53           Private  234721  ...             40   United-States   <=50K\n",
              "4       28           Private  338409  ...             40            Cuba   <=50K\n",
              "...    ...               ...     ...  ...            ...             ...     ...\n",
              "48837   39           Private  215419  ...             36   United-States  <=50K.\n",
              "48838   64                 ?  321403  ...             40   United-States  <=50K.\n",
              "48839   38           Private  374983  ...             50   United-States  <=50K.\n",
              "48840   44           Private   83891  ...             40   United-States  <=50K.\n",
              "48841   35      Self-emp-inc  182148  ...             60   United-States   >50K.\n",
              "\n",
              "[48842 rows x 15 columns]>"
            ]
          },
          "metadata": {
            "tags": []
          },
          "execution_count": 27
        }
      ]
    },
    {
      "cell_type": "code",
      "metadata": {
        "colab_type": "code",
        "id": "EFg2YmSQhD2-",
        "outputId": "2485e1e1-ceda-4d38-e55a-604709fcccce",
        "colab": {
          "base_uri": "https://localhost:8080/",
          "height": 34
        }
      },
      "source": [
        "df.shape"
      ],
      "execution_count": 0,
      "outputs": [
        {
          "output_type": "execute_result",
          "data": {
            "text/plain": [
              "(48842, 15)"
            ]
          },
          "metadata": {
            "tags": []
          },
          "execution_count": 28
        }
      ]
    },
    {
      "cell_type": "code",
      "metadata": {
        "id": "xTy6FHwY9dYd",
        "colab_type": "code",
        "outputId": "2ef5dbfd-37fd-42a5-91e5-92afa3abe69f",
        "colab": {
          "base_uri": "https://localhost:8080/",
          "height": 289
        }
      },
      "source": [
        "df.dtypes"
      ],
      "execution_count": 0,
      "outputs": [
        {
          "output_type": "execute_result",
          "data": {
            "text/plain": [
              "age                int64\n",
              "workclass         object\n",
              "fnlwgt             int64\n",
              "education         object\n",
              "education-num      int64\n",
              "marital-status    object\n",
              "occupation        object\n",
              "relationship      object\n",
              "race              object\n",
              "sex               object\n",
              "capital-gain       int64\n",
              "capital-loss       int64\n",
              "hours-per-week     int64\n",
              "native-country    object\n",
              "salary            object\n",
              "dtype: object"
            ]
          },
          "metadata": {
            "tags": []
          },
          "execution_count": 29
        }
      ]
    },
    {
      "cell_type": "code",
      "metadata": {
        "scrolled": true,
        "id": "xDm0pI2H9dYh",
        "colab_type": "code",
        "outputId": "f4147cb4-a5c4-4147-fd0f-aebe0ce38c8d",
        "colab": {
          "base_uri": "https://localhost:8080/",
          "height": 102
        }
      },
      "source": [
        "df.columns"
      ],
      "execution_count": 0,
      "outputs": [
        {
          "output_type": "execute_result",
          "data": {
            "text/plain": [
              "Index(['age', 'workclass', 'fnlwgt', 'education', 'education-num',\n",
              "       'marital-status', 'occupation', 'relationship', 'race', 'sex',\n",
              "       'capital-gain', 'capital-loss', 'hours-per-week', 'native-country',\n",
              "       'salary'],\n",
              "      dtype='object')"
            ]
          },
          "metadata": {
            "tags": []
          },
          "execution_count": 30
        }
      ]
    },
    {
      "cell_type": "markdown",
      "metadata": {
        "id": "YRl_tMPi9dYl",
        "colab_type": "text"
      },
      "source": [
        "# Preprocessing"
      ]
    },
    {
      "cell_type": "markdown",
      "metadata": {
        "id": "WyurT7te9dYm",
        "colab_type": "text"
      },
      "source": [
        "### change salary to int "
      ]
    },
    {
      "cell_type": "code",
      "metadata": {
        "id": "ePbS6Sag9dYm",
        "colab_type": "code",
        "outputId": "afc05088-1b2c-405a-8ce8-83e1ace8ea86",
        "colab": {
          "base_uri": "https://localhost:8080/",
          "height": 34
        }
      },
      "source": [
        "df.salary.unique()"
      ],
      "execution_count": 0,
      "outputs": [
        {
          "output_type": "execute_result",
          "data": {
            "text/plain": [
              "array(['<=50K', '>50K', '<=50K.', '>50K.'], dtype=object)"
            ]
          },
          "metadata": {
            "tags": []
          },
          "execution_count": 31
        }
      ]
    },
    {
      "cell_type": "code",
      "metadata": {
        "id": "ThME4dgR9dYr",
        "colab_type": "code",
        "colab": {}
      },
      "source": [
        "df['salary'] = df['salary'].map({'<=50K':0, '>50K':1, '<=50K.':0, '>50K.':1}).astype(int)"
      ],
      "execution_count": 0,
      "outputs": []
    },
    {
      "cell_type": "markdown",
      "metadata": {
        "id": "ESz_ZjEn9dYt",
        "colab_type": "text"
      },
      "source": [
        "### change sex to int"
      ]
    },
    {
      "cell_type": "code",
      "metadata": {
        "id": "9cshD6ro9dYu",
        "colab_type": "code",
        "outputId": "828748af-c397-4598-d618-aa9548689686",
        "colab": {
          "base_uri": "https://localhost:8080/",
          "height": 34
        }
      },
      "source": [
        "df.sex.unique()"
      ],
      "execution_count": 0,
      "outputs": [
        {
          "output_type": "execute_result",
          "data": {
            "text/plain": [
              "array(['Male', 'Female'], dtype=object)"
            ]
          },
          "metadata": {
            "tags": []
          },
          "execution_count": 33
        }
      ]
    },
    {
      "cell_type": "code",
      "metadata": {
        "id": "fGx4e-kJ9dYw",
        "colab_type": "code",
        "colab": {}
      },
      "source": [
        "df['sex'] = df['sex'].map({'Male':1, 'Female':0}).astype(int)"
      ],
      "execution_count": 0,
      "outputs": []
    },
    {
      "cell_type": "markdown",
      "metadata": {
        "id": "6RyzPDmh9dY1",
        "colab_type": "text"
      },
      "source": [
        "### change ? to np.nan"
      ]
    },
    {
      "cell_type": "code",
      "metadata": {
        "id": "_XU8m6rM9dY2",
        "colab_type": "code",
        "outputId": "6be03b6f-b9bd-4ba3-d6bb-fe2609645217",
        "colab": {
          "base_uri": "https://localhost:8080/",
          "height": 122
        }
      },
      "source": [
        "def count_na(df,ch='?'):\n",
        "    for i in df.columns:\n",
        "        if len(df[df[i]==ch]) > 0:\n",
        "            print(i)\n",
        "            df[i] = df[i].replace(ch,np.nan)\n",
        "    return \n",
        "count_na(df)"
      ],
      "execution_count": 0,
      "outputs": [
        {
          "output_type": "stream",
          "text": [
            "workclass\n",
            "occupation\n",
            "native-country\n"
          ],
          "name": "stdout"
        },
        {
          "output_type": "stream",
          "text": [
            "/usr/local/lib/python3.6/dist-packages/pandas/core/ops/array_ops.py:253: FutureWarning: elementwise comparison failed; returning scalar instead, but in the future will perform elementwise comparison\n",
            "  res_values = method(rvalues)\n"
          ],
          "name": "stderr"
        }
      ]
    },
    {
      "cell_type": "markdown",
      "metadata": {
        "id": "AYqJZfZq9dY6",
        "colab_type": "text"
      },
      "source": [
        "### drop rows with NaN value"
      ]
    },
    {
      "cell_type": "code",
      "metadata": {
        "id": "NvYD9Kyx9dY7",
        "colab_type": "code",
        "outputId": "445ffef0-f888-424e-9318-ec93075cb109",
        "colab": {
          "base_uri": "https://localhost:8080/",
          "height": 34
        }
      },
      "source": [
        "df[pd.isnull(df).any(axis=1)].shape"
      ],
      "execution_count": 0,
      "outputs": [
        {
          "output_type": "execute_result",
          "data": {
            "text/plain": [
              "(3620, 15)"
            ]
          },
          "metadata": {
            "tags": []
          },
          "execution_count": 36
        }
      ]
    },
    {
      "cell_type": "code",
      "metadata": {
        "id": "KHDxaPJk9dY-",
        "colab_type": "code",
        "outputId": "e11a0c90-41dd-48fb-e814-b08848b1576b",
        "colab": {
          "base_uri": "https://localhost:8080/",
          "height": 34
        }
      },
      "source": [
        "df.shape"
      ],
      "execution_count": 0,
      "outputs": [
        {
          "output_type": "execute_result",
          "data": {
            "text/plain": [
              "(48842, 15)"
            ]
          },
          "metadata": {
            "tags": []
          },
          "execution_count": 37
        }
      ]
    },
    {
      "cell_type": "code",
      "metadata": {
        "id": "QGoaEN8U9dZA",
        "colab_type": "code",
        "colab": {}
      },
      "source": [
        "df.dropna(inplace=True)"
      ],
      "execution_count": 0,
      "outputs": []
    },
    {
      "cell_type": "code",
      "metadata": {
        "id": "rvC6w8HK9dZE",
        "colab_type": "code",
        "outputId": "0fb76d34-3c09-4e3b-8123-9943cbbb9851",
        "colab": {
          "base_uri": "https://localhost:8080/",
          "height": 34
        }
      },
      "source": [
        "df.shape"
      ],
      "execution_count": 0,
      "outputs": [
        {
          "output_type": "execute_result",
          "data": {
            "text/plain": [
              "(45222, 15)"
            ]
          },
          "metadata": {
            "tags": []
          },
          "execution_count": 39
        }
      ]
    },
    {
      "cell_type": "code",
      "metadata": {
        "id": "dU76bqbm9dZG",
        "colab_type": "code",
        "colab": {}
      },
      "source": [
        ""
      ],
      "execution_count": 0,
      "outputs": []
    }
  ]
}